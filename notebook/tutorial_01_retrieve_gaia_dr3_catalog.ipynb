{
 "cells": [
  {
   "cell_type": "markdown",
   "metadata": {},
   "source": [
    "# Tutorial: retrieve Gaia DR3 sources\n",
    "\n",
    "This notebook illustrates a method to retrieve sources from the Gaia DR3 catalog.\n",
    "The sources within 1 degree around $(\\mathrm{ra}, \\mathrm{dec}) = (269.27, -18.99)$ are extracted.\n",
    "The retrived sources are stored as a pickle dump file."
   ]
  },
  {
   "cell_type": "code",
   "execution_count": 1,
   "metadata": {},
   "outputs": [],
   "source": [
    "import matplotlib.pyplot as plt\n",
    "import numpy as np\n",
    "from warpfield.telescope import retrieve_gaia_sources"
   ]
  },
  {
   "cell_type": "markdown",
   "metadata": {},
   "source": [
    "The center of the search region is specified by a `SkyCoord` instance.\n",
    "The radius of the search region is given by an `Angle` instance."
   ]
  },
  {
   "cell_type": "code",
   "execution_count": 2,
   "metadata": {},
   "outputs": [],
   "source": [
    "from astropy.coordinates import SkyCoord, Longitude, Latitude, Angle\n",
    "import astropy.units as u"
   ]
  },
  {
   "cell_type": "code",
   "execution_count": 3,
   "metadata": {},
   "outputs": [],
   "source": [
    "lon = Longitude(269.267, unit=u.degree)\n",
    "lat = Latitude(-18.985, unit=u.degree)\n",
    "radius = Angle(1.0*u.degree)\n",
    "pointing = SkyCoord(lon, lat, frame='icrs')"
   ]
  },
  {
   "cell_type": "markdown",
   "metadata": {},
   "source": [
    "The Gaia DR3 sources are fetched via `retrieve_gaia_sources`.\n",
    "The first and second arguments are the central position and the radius of the search region.\n",
    "The sources with `parallax_over_error` larger than 10 are retrieved.\n",
    "This possibly takes a few minute to retrieve the sources."
   ]
  },
  {
   "cell_type": "code",
   "execution_count": 4,
   "metadata": {},
   "outputs": [
    {
     "name": "stderr",
     "output_type": "stream",
     "text": [
      "INFO:astroquery:Query finished.\n"
     ]
    },
    {
     "name": "stdout",
     "output_type": "stream",
     "text": [
      "INFO: Query finished. [astroquery.utils.tap.core]\n"
     ]
    }
   ],
   "source": [
    "gaia_sources = retrieve_gaia_sources(pointing, radius)"
   ]
  },
  {
   "cell_type": "markdown",
   "metadata": {},
   "source": [
    "About 18000 sources are retrieved."
   ]
  },
  {
   "cell_type": "code",
   "execution_count": 5,
   "metadata": {},
   "outputs": [
    {
     "name": "stdout",
     "output_type": "stream",
     "text": [
      "17835\n"
     ]
    }
   ],
   "source": [
    "print(len(gaia_sources))"
   ]
  },
  {
   "cell_type": "markdown",
   "metadata": {},
   "source": [
    "The sources are given as a `SkyCoord` instance. `ra`, `dec`, `pm_ra_cosdec`, and `pm_dec` are imported from the Gaia DR3 catalog. `distance` is given by a reciprocal of `parallax`."
   ]
  },
  {
   "cell_type": "code",
   "execution_count": 6,
   "metadata": {},
   "outputs": [
    {
     "data": {
      "text/html": [
       "<div><i>QTable length=17835</i>\n",
       "<table id=\"table139954946132096\" class=\"table-striped table-bordered table-condensed\">\n",
       "<thead><tr><th>source_id</th><th>ra</th><th>dec</th><th>parallax</th><th>phot_g_mean_mag</th></tr></thead>\n",
       "<thead><tr><th></th><th>deg</th><th>deg</th><th>mas</th><th>mag</th></tr></thead>\n",
       "<thead><tr><th>int64</th><th>float64</th><th>float64</th><th>float64</th><th>float32</th></tr></thead>\n",
       "<tr><td>4119338940801153920</td><td>268.72462775195527</td><td>-19.45152773534283</td><td>0.7329998056725352</td><td>14.313878059387207</td></tr>\n",
       "<tr><td>4119240534551803136</td><td>268.6258663689803</td><td>-19.602881669663795</td><td>1.1282188868668754</td><td>13.582557678222656</td></tr>\n",
       "<tr><td>4119240564518175360</td><td>268.6373521523159</td><td>-19.607753947184456</td><td>0.8562925417820627</td><td>13.996078491210938</td></tr>\n",
       "<tr><td>4119240568911521408</td><td>268.63780046571344</td><td>-19.60700539697226</td><td>0.8231065919982719</td><td>16.4145450592041</td></tr>\n",
       "<tr><td>4119240637630907520</td><td>268.6977438941892</td><td>-19.607054971041613</td><td>0.9504398298675085</td><td>12.811280250549316</td></tr>\n",
       "<tr><td>4119240667597199872</td><td>268.67329595495556</td><td>-19.603654526529496</td><td>2.1863493803395215</td><td>12.91026496887207</td></tr>\n",
       "<tr><td>4119240671990682624</td><td>268.6677084418912</td><td>-19.613226130836004</td><td>0.6399678985816651</td><td>14.95861530303955</td></tr>\n",
       "<tr><td>4119240701957134592</td><td>268.6747939925051</td><td>-19.60098295474466</td><td>1.6136345477141838</td><td>16.784942626953125</td></tr>\n",
       "<tr><td>4119240701957142144</td><td>268.6790886248928</td><td>-19.59417783835246</td><td>0.6675253291294245</td><td>15.834721565246582</td></tr>\n",
       "<tr><td>...</td><td>...</td><td>...</td><td>...</td><td>...</td></tr>\n",
       "<tr><td>4071253032354190336</td><td>269.94024154694443</td><td>-19.56587171424286</td><td>1.1594728396320737</td><td>15.205571174621582</td></tr>\n",
       "<tr><td>4071253277208570496</td><td>269.9504563307387</td><td>-19.54957504960408</td><td>1.2536541567726087</td><td>15.876577377319336</td></tr>\n",
       "<tr><td>4071253311583469440</td><td>269.9310677159627</td><td>-19.54837241124066</td><td>1.2669305865568252</td><td>13.88914680480957</td></tr>\n",
       "<tr><td>4071253380302931712</td><td>269.95183102614595</td><td>-19.540749686559078</td><td>3.1885168741205616</td><td>14.434898376464844</td></tr>\n",
       "<tr><td>4071253449022426496</td><td>269.9433155624401</td><td>-19.535211391096297</td><td>1.0086018127288259</td><td>14.210830688476562</td></tr>\n",
       "<tr><td>4071253483367119872</td><td>269.96031148589304</td><td>-19.517516697802183</td><td>4.341510834445483</td><td>18.723146438598633</td></tr>\n",
       "<tr><td>4071253552101583488</td><td>270.0075724259711</td><td>-19.534362036056482</td><td>0.6398935491231057</td><td>14.128353118896484</td></tr>\n",
       "<tr><td>4071253650831839232</td><td>270.02372621174544</td><td>-19.51362800128985</td><td>1.4016704359100736</td><td>16.95950698852539</td></tr>\n",
       "<tr><td>4071253685191577472</td><td>270.03322421350015</td><td>-19.518839618842005</td><td>1.0179902114536654</td><td>16.388996124267578</td></tr>\n",
       "<tr><td>4071253723900297984</td><td>270.0080367904707</td><td>-19.507795089220394</td><td>0.9666384743968975</td><td>13.730916023254395</td></tr>\n",
       "</table></div>"
      ],
      "text/plain": [
       "<QTable length=17835>\n",
       "     source_id              ra         ...      parallax       phot_g_mean_mag  \n",
       "                           deg         ...        mas                mag        \n",
       "       int64             float64       ...      float64            float32      \n",
       "------------------- ------------------ ... ------------------ ------------------\n",
       "4119338940801153920 268.72462775195527 ... 0.7329998056725352 14.313878059387207\n",
       "4119240534551803136  268.6258663689803 ... 1.1282188868668754 13.582557678222656\n",
       "4119240564518175360  268.6373521523159 ... 0.8562925417820627 13.996078491210938\n",
       "4119240568911521408 268.63780046571344 ... 0.8231065919982719   16.4145450592041\n",
       "4119240637630907520  268.6977438941892 ... 0.9504398298675085 12.811280250549316\n",
       "4119240667597199872 268.67329595495556 ... 2.1863493803395215  12.91026496887207\n",
       "4119240671990682624  268.6677084418912 ... 0.6399678985816651  14.95861530303955\n",
       "4119240701957134592  268.6747939925051 ... 1.6136345477141838 16.784942626953125\n",
       "4119240701957142144  268.6790886248928 ... 0.6675253291294245 15.834721565246582\n",
       "                ...                ... ...                ...                ...\n",
       "4071253032354190336 269.94024154694443 ... 1.1594728396320737 15.205571174621582\n",
       "4071253277208570496  269.9504563307387 ... 1.2536541567726087 15.876577377319336\n",
       "4071253311583469440  269.9310677159627 ... 1.2669305865568252  13.88914680480957\n",
       "4071253380302931712 269.95183102614595 ... 3.1885168741205616 14.434898376464844\n",
       "4071253449022426496  269.9433155624401 ... 1.0086018127288259 14.210830688476562\n",
       "4071253483367119872 269.96031148589304 ...  4.341510834445483 18.723146438598633\n",
       "4071253552101583488  270.0075724259711 ... 0.6398935491231057 14.128353118896484\n",
       "4071253650831839232 270.02372621174544 ... 1.4016704359100736  16.95950698852539\n",
       "4071253685191577472 270.03322421350015 ... 1.0179902114536654 16.388996124267578\n",
       "4071253723900297984  270.0080367904707 ... 0.9666384743968975 13.730916023254395"
      ]
     },
     "execution_count": 6,
     "metadata": {},
     "output_type": "execute_result"
    }
   ],
   "source": [
    "gaia_sources.table['source_id','ra','dec','parallax','phot_g_mean_mag']"
   ]
  },
  {
   "cell_type": "markdown",
   "metadata": {},
   "source": [
    "Save the retrieved catalog as `gaia_dr3.fits`."
   ]
  },
  {
   "cell_type": "code",
   "execution_count": 7,
   "metadata": {},
   "outputs": [],
   "source": [
    "gaia_sources.writeto('gaia_dr3.fits', overwrite=True)"
   ]
  }
 ],
 "metadata": {
  "kernelspec": {
   "display_name": "jasmine",
   "language": "python",
   "name": "python3"
  },
  "language_info": {
   "codemirror_mode": {
    "name": "ipython",
    "version": 3
   },
   "file_extension": ".py",
   "mimetype": "text/x-python",
   "name": "python",
   "nbconvert_exporter": "python",
   "pygments_lexer": "ipython3",
   "version": "3.9.9"
  },
  "vscode": {
   "interpreter": {
    "hash": "c2f160658ea7e7cfd5dca7e50c09e54c858fe3ddf3bd6682d421ec87c67d4cc7"
   }
  }
 },
 "nbformat": 4,
 "nbformat_minor": 4
}
