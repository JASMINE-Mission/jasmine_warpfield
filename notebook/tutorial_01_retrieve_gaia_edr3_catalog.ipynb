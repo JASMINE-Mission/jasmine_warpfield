{
 "cells": [
  {
   "cell_type": "markdown",
   "metadata": {},
   "source": [
    "# Tutorial: retrieve Gaia EDR3 sources\n",
    "\n",
    "This notebook illustrates a method to retrieve sources from the Gaia EDR3 catalog.\n",
    "The sources within 1 degree around $(\\mathrm{ra}, \\mathrm{dec}) = (269.27, -18.99)$ are extracted.\n",
    "The retrived sources are stored as a pickle dump file."
   ]
  },
  {
   "cell_type": "code",
   "execution_count": 1,
   "metadata": {},
   "outputs": [],
   "source": [
    "%matplotlib inline\n",
    "import matplotlib.pyplot as plt\n",
    "import numpy as np\n",
    "import pickle as pkl\n",
    "from warpfield.telescope import retrieve_gaia_sources"
   ]
  },
  {
   "cell_type": "markdown",
   "metadata": {},
   "source": [
    "The center of the search region is specified by a `SkyCoord` instance.\n",
    "The radius of the search region is given by an `Angle` instance."
   ]
  },
  {
   "cell_type": "code",
   "execution_count": 2,
   "metadata": {},
   "outputs": [],
   "source": [
    "from astropy.coordinates import SkyCoord, Longitude, Latitude, Angle\n",
    "import astropy.units as u"
   ]
  },
  {
   "cell_type": "code",
   "execution_count": 3,
   "metadata": {},
   "outputs": [],
   "source": [
    "lon = Longitude(269.267, unit=u.degree)\n",
    "lat = Latitude(-18.985, unit=u.degree)\n",
    "radius = Angle(1.0*u.degree)\n",
    "pointing = SkyCoord(lon, lat, frame='icrs')"
   ]
  },
  {
   "cell_type": "markdown",
   "metadata": {},
   "source": [
    "The Gaia EDR3 sources are fetched via `retrieve_gaia_sources`.\n",
    "The first and second arguments are the central position and the radius of the search region.\n",
    "The sources with `parallax_over_error` larger than 10 are retrieved.\n",
    "This possibly takes a few minute to retrieve the sources."
   ]
  },
  {
   "cell_type": "code",
   "execution_count": 4,
   "metadata": {},
   "outputs": [
    {
     "name": "stdout",
     "output_type": "stream",
     "text": [
      "INFO: Query finished. [astroquery.utils.tap.core]\n"
     ]
    }
   ],
   "source": [
    "gaia_sources = retrieve_gaia_sources(pointing, radius)"
   ]
  },
  {
   "cell_type": "markdown",
   "metadata": {},
   "source": [
    "About 18000 sources are retrieved."
   ]
  },
  {
   "cell_type": "code",
   "execution_count": 5,
   "metadata": {},
   "outputs": [
    {
     "name": "stdout",
     "output_type": "stream",
     "text": [
      "17835\n"
     ]
    }
   ],
   "source": [
    "print(len(gaia_sources))"
   ]
  },
  {
   "cell_type": "markdown",
   "metadata": {},
   "source": [
    "The sources are given as a `SkyCoord` instance. `ra`, `dec`, `pm_ra_cosdec`, and `pm_dec` are imported from the Gaia EDR3 catalog. `distance` is given by a reciprocal of `parallax`."
   ]
  },
  {
   "cell_type": "code",
   "execution_count": 6,
   "metadata": {},
   "outputs": [
    {
     "name": "stdout",
     "output_type": "stream",
     "text": [
      "<SkyCoord (ICRS): (ra, dec, distance) in (deg, deg, pc)\n",
      "    [(269.98167082, -18.57869516, 1224.69071274),\n",
      "     (269.97802152, -18.57559889,  324.47533736),\n",
      "     (269.9835042 , -18.56314468, 1386.3884802 ), ...,\n",
      "     (268.95304902, -19.79798206, 1453.99297353),\n",
      "     (268.94090109, -19.80146811, 1743.04794159),\n",
      "     (268.94291844, -19.79621657,  961.61213642)]\n",
      " (pm_ra_cosdec, pm_dec) in mas / yr\n",
      "    [( -3.47320156, -6.59719102), (-21.33238793, 19.44839316),\n",
      "     (  2.41198999, -0.88761999), ..., ( -0.14121417,  4.28021171),\n",
      "     ( -0.65096113, -8.71104282), ( -1.00190969,  0.6318477 )]>\n"
     ]
    }
   ],
   "source": [
    "print(gaia_sources)"
   ]
  },
  {
   "cell_type": "markdown",
   "metadata": {},
   "source": [
    "Save the retrieved catalog as `gaia_edr3.pkl`."
   ]
  },
  {
   "cell_type": "code",
   "execution_count": 7,
   "metadata": {},
   "outputs": [],
   "source": [
    "with open('gaia_edr3.pkl','wb') as f:\n",
    "    pkl.dump(gaia_sources, f)"
   ]
  }
 ],
 "metadata": {
  "kernelspec": {
   "display_name": "Python 3 (ipykernel)",
   "language": "python",
   "name": "python3"
  },
  "language_info": {
   "codemirror_mode": {
    "name": "ipython",
    "version": 3
   },
   "file_extension": ".py",
   "mimetype": "text/x-python",
   "name": "python",
   "nbconvert_exporter": "python",
   "pygments_lexer": "ipython3",
   "version": "3.9.9"
  }
 },
 "nbformat": 4,
 "nbformat_minor": 2
}
