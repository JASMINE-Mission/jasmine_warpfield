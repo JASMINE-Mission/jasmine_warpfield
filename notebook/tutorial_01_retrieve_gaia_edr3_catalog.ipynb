{
 "cells": [
  {
   "cell_type": "markdown",
   "metadata": {},
   "source": [
    "# Tutorial: Retrieve Gaia EDR3 sources\n",
    "\n",
    "This notebook presents an example to retrieve sources from the Gaia EDR3 catalog.\n",
    "\n",
    "The sources within 1 degree around $(\\mathrm{ra}, \\mathrm{dec}) = (269.27, -18.99)$ are extracted.\n",
    "The retrived sources are stored as a pickle dump file."
   ]
  },
  {
   "cell_type": "code",
   "execution_count": 1,
   "metadata": {},
   "outputs": [],
   "source": [
    "%matplotlib inline\n",
    "import matplotlib.pyplot as plt\n",
    "import numpy as np\n",
    "import pickle as pkl\n",
    "import warpfield as w"
   ]
  },
  {
   "cell_type": "markdown",
   "metadata": {},
   "source": [
    "The center of the search region is specified by a `SkyCoord` instance.\n",
    "The radius of the search region is given by an `Angle` instance."
   ]
  },
  {
   "cell_type": "code",
   "execution_count": 2,
   "metadata": {},
   "outputs": [],
   "source": [
    "from astropy.coordinates import SkyCoord, Longitude, Latitude, Angle\n",
    "import astropy.units as u"
   ]
  },
  {
   "cell_type": "code",
   "execution_count": 3,
   "metadata": {},
   "outputs": [],
   "source": [
    "lon = Longitude(269.267, unit=u.degree)\n",
    "lat = Latitude(-18.985, unit=u.degree)\n",
    "radius = Angle(1.0*u.degree)\n",
    "pointing = SkyCoord(lon, lat, frame='icrs')"
   ]
  },
  {
   "cell_type": "markdown",
   "metadata": {},
   "source": [
    "The Gaia EDR3 sources are fetched via `retrieve_gaia_sources`.\n",
    "The first and second arguments are the central position and the radius of the search region.\n",
    "The sources with `parallax_over_error` larger than 10 are retrieved.\n",
    "This possibly takes a few minute to retrieve the sources."
   ]
  },
  {
   "cell_type": "code",
   "execution_count": null,
   "metadata": {},
   "outputs": [
    {
     "name": "stdout",
     "output_type": "stream",
     "text": [
      "Created TAP+ (v1.2.1) - Connection:\n",
      "\tHost: gea.esac.esa.int\n",
      "\tUse HTTPS: True\n",
      "\tPort: 443\n",
      "\tSSL Port: 443\n",
      "Created TAP+ (v1.2.1) - Connection:\n",
      "\tHost: geadata.esac.esa.int\n",
      "\tUse HTTPS: True\n",
      "\tPort: 443\n",
      "\tSSL Port: 443\n"
     ]
    }
   ],
   "source": [
    "gaia_sources = w.retrieve_gaia_sources(pointing, radius)"
   ]
  },
  {
   "cell_type": "markdown",
   "metadata": {},
   "source": [
    "About 18000 sources are retrieved."
   ]
  },
  {
   "cell_type": "code",
   "execution_count": null,
   "metadata": {},
   "outputs": [],
   "source": [
    "print(len(gaia_sources))"
   ]
  },
  {
   "cell_type": "markdown",
   "metadata": {},
   "source": [
    "The sources are given as a `SkyCoord` instance. `ra`, `dec`, `pm_ra_cosdec`, and `pm_dec` are imported from the Gaia EDR3 catalog. `distance` is given by a reciprocal of `parallax`."
   ]
  },
  {
   "cell_type": "code",
   "execution_count": null,
   "metadata": {},
   "outputs": [],
   "source": [
    "print(gaia_sources)"
   ]
  },
  {
   "cell_type": "markdown",
   "metadata": {},
   "source": [
    "The object name (`source_id` in the Gaia EDR3 catalog) is available in the `info.name` attribute."
   ]
  },
  {
   "cell_type": "code",
   "execution_count": null,
   "metadata": {},
   "outputs": [],
   "source": [
    "print(gaia_sources.info.name)"
   ]
  },
  {
   "cell_type": "markdown",
   "metadata": {},
   "source": [
    "Save the retrieved catalog as `gaia_edr3.pkl`."
   ]
  },
  {
   "cell_type": "code",
   "execution_count": null,
   "metadata": {},
   "outputs": [],
   "source": [
    "with open('gaia_edr3.pkl','wb') as f:\n",
    "    pkl.dump(gaia_sources, f)"
   ]
  }
 ],
 "metadata": {
  "kernelspec": {
   "display_name": "Python 3",
   "language": "python",
   "name": "python3"
  },
  "language_info": {
   "codemirror_mode": {
    "name": "ipython",
    "version": 3
   },
   "file_extension": ".py",
   "mimetype": "text/x-python",
   "name": "python",
   "nbconvert_exporter": "python",
   "pygments_lexer": "ipython3",
   "version": "3.7.1"
  }
 },
 "nbformat": 4,
 "nbformat_minor": 2
}
